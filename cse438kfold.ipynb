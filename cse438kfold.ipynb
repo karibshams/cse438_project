{
 "cells": [
  {
   "cell_type": "code",
   "execution_count": 1,
   "id": "8d7955e0-691b-43d6-bf80-d62ea64ce431",
   "metadata": {},
   "outputs": [
    {
     "name": "stdout",
     "output_type": "stream",
     "text": [
      "modules loaded\n"
     ]
    }
   ],
   "source": [
    "import os\n",
    "import numpy as np\n",
    "import pandas as pd\n",
    "import tensorflow as tf\n",
    "from tensorflow.keras.preprocessing.image import ImageDataGenerator\n",
    "from tensorflow.keras.layers import Dense, GlobalAveragePooling2D, Dropout\n",
    "from tensorflow.keras.models import Model\n",
    "from tensorflow.keras.optimizers import Adamax\n",
    "from sklearn.model_selection import StratifiedKFold\n",
    "from sklearn.metrics import classification_report\n",
    "from tensorflow.keras.callbacks import ModelCheckpoint, EarlyStopping, ReduceLROnPlateau\n",
    "import warnings\n",
    "warnings.filterwarnings(\"ignore\")\n",
    "import seaborn as sns\n",
    "sns.set_style('darkgrid')\n",
    "import matplotlib.pyplot as plt\n",
    "\n",
    "print('modules loaded')\n"
   ]
  },
  {
   "cell_type": "code",
   "execution_count": 2,
   "id": "afaadf9a-52e9-4b44-9910-daea39b8da38",
   "metadata": {},
   "outputs": [
    {
     "name": "stdout",
     "output_type": "stream",
     "text": [
      "                                           filepaths    labels\n",
      "0  D:\\CAPSTONE 400A\\cse438\\lung_colon_image_set\\l...  lung_aca\n",
      "1  D:\\CAPSTONE 400A\\cse438\\lung_colon_image_set\\l...  lung_aca\n",
      "2  D:\\CAPSTONE 400A\\cse438\\lung_colon_image_set\\l...  lung_aca\n",
      "3  D:\\CAPSTONE 400A\\cse438\\lung_colon_image_set\\l...  lung_aca\n",
      "4  D:\\CAPSTONE 400A\\cse438\\lung_colon_image_set\\l...  lung_aca\n"
     ]
    }
   ],
   "source": [
    "data_dir = r\"D:\\CAPSTONE 400A\\cse438\\lung_colon_image_set\\lung_image_sets\"\n",
    "filepaths = []\n",
    "labels = []\n",
    "\n",
    "for root, dirs, files in os.walk(data_dir):\n",
    "    for file in files:\n",
    "        file_path = os.path.join(root, file)\n",
    "        filepaths.append(file_path)\n",
    "        label = os.path.basename(root)\n",
    "        labels.append(label)\n",
    "\n",
    "df = pd.DataFrame({'filepaths': filepaths, 'labels': labels})\n",
    "labels = df['labels']\n",
    "print(df.head())\n"
   ]
  },
  {
   "cell_type": "code",
   "execution_count": 3,
   "id": "c1ebd3d5-72ef-4fe4-a812-5c9126e033f1",
   "metadata": {},
   "outputs": [],
   "source": [
    "batch_size = 32\n",
    "img_size = (224, 224)\n",
    "channels = 3\n",
    "img_shape = (img_size[0], img_size[1], channels)\n",
    "epochs = 3\n",
    "k = 2  \n",
    "\n",
    "def get_callbacks(model_name):\n",
    "    callbacks = []\n",
    "    checkpoint = ModelCheckpoint(filepath=f'model.{model_name}.h5', verbose=1, monitor='val_accuracy', mode='max')\n",
    "    callbacks.append(checkpoint)\n",
    "    reduce_lr = ReduceLROnPlateau(monitor='val_loss', factor=0.2, patience=3, min_lr=1e-6, verbose=1)\n",
    "    callbacks.append(reduce_lr)\n",
    "    early_stopping = EarlyStopping(monitor='val_loss', patience=5, restore_best_weights=True, verbose=1)\n",
    "    callbacks.append(early_stopping)\n",
    "    return callbacks\n",
    "\n",
    "def build_model():\n",
    "    base_model = tf.keras.applications.Xception(input_shape=img_shape, include_top=False, weights='imagenet')\n",
    "    base_model.trainable = True\n",
    "    x = base_model.output\n",
    "    x = GlobalAveragePooling2D()(x)\n",
    "    x = Dropout(0.55)(x)\n",
    "    y = Dense(512, activation='relu')(x)\n",
    "\n",
    "    y = Dropout(0.55)(y)\n",
    "    predictions = Dense(class_count, activation='softmax', name='final')(y)\n",
    "    model = Model(inputs=base_model.input, outputs=predictions)\n",
    "    model.compile(optimizer=Adamax(0.001), loss='categorical_crossentropy', metrics=['accuracy'])\n",
    "    return model\n",
    "    #x = Dropout(0.5)(x)  \n",
    "    #y = Dense(256, activation='relu')(x)\n",
    "    #y = Dropout(0.5)(y)"
   ]
  },
  {
   "cell_type": "code",
   "execution_count": 4,
   "id": "3bc1fc3b-7e72-46bd-850b-0e3140e857d5",
   "metadata": {},
   "outputs": [],
   "source": [
    "skf = StratifiedKFold(n_splits=k, shuffle=True, random_state=123)\n",
    "fold_no = 1\n",
    "accuracies = []\n"
   ]
  },
  {
   "cell_type": "code",
   "execution_count": null,
   "id": "c7e20f5c-bd06-4fd4-8ff2-42cc2df4e4b8",
   "metadata": {},
   "outputs": [
    {
     "name": "stdout",
     "output_type": "stream",
     "text": [
      "Found 7500 validated image filenames belonging to 3 classes.\n",
      "Found 7500 validated image filenames belonging to 3 classes.\n",
      "Epoch 1/3\n",
      "235/235 [==============================] - ETA: 0s - loss: 0.0972 - accuracy: 0.9665 \n",
      "Epoch 1: saving model to model.Xception_fold_1.h5\n",
      "235/235 [==============================] - 4634s 20s/step - loss: 0.0972 - accuracy: 0.9665 - val_loss: 0.2119 - val_accuracy: 0.9355 - lr: 0.0010\n",
      "Epoch 2/3\n",
      "235/235 [==============================] - ETA: 0s - loss: 0.0188 - accuracy: 0.9941 \n",
      "Epoch 2: saving model to model.Xception_fold_1.h5\n",
      "235/235 [==============================] - 5028s 21s/step - loss: 0.0188 - accuracy: 0.9941 - val_loss: 0.0203 - val_accuracy: 0.9936 - lr: 0.0010\n",
      "Epoch 3/3\n",
      "235/235 [==============================] - ETA: 0s - loss: 0.0081 - accuracy: 0.9972 \n",
      "Epoch 3: saving model to model.Xception_fold_1.h5\n",
      "235/235 [==============================] - 5528s 24s/step - loss: 0.0081 - accuracy: 0.9972 - val_loss: 0.0046 - val_accuracy: 0.9988 - lr: 0.0010\n",
      "234/234 [==============================] - 936s 4s/step - loss: 0.0046 - accuracy: 0.9988\n",
      "Fold 1 - Test Loss:  0.004586650989949703\n",
      "Fold 1 - Test Accuracy:  0.9987980723381042\n",
      "235/235 [==============================] - 723s 3s/step\n",
      "Classification Report for Fold 1\n",
      "              precision    recall  f1-score   support\n",
      "\n",
      "    lung_aca       1.00      1.00      1.00      2500\n",
      "      lung_n       1.00      1.00      1.00      2500\n",
      "    lung_scc       1.00      1.00      1.00      2500\n",
      "\n",
      "    accuracy                           1.00      7500\n",
      "   macro avg       1.00      1.00      1.00      7500\n",
      "weighted avg       1.00      1.00      1.00      7500\n",
      "\n",
      "Found 7500 validated image filenames belonging to 3 classes.\n",
      "Found 7500 validated image filenames belonging to 3 classes.\n",
      "Epoch 1/3\n",
      " 22/235 [=>............................] - ETA: 1:05:36 - loss: 0.4212 - accuracy: 0.8438"
     ]
    }
   ],
   "source": [
    "for train_index, test_index in skf.split(df['filepaths'], df['labels']):\n",
    "    train_df = df.iloc[train_index]\n",
    "    test_df = df.iloc[test_index]\n",
    "\n",
    "    tr_gen = ImageDataGenerator()\n",
    "    ts_gen = ImageDataGenerator()\n",
    "\n",
    "    train_gen = tr_gen.flow_from_dataframe(train_df, x_col='filepaths', y_col='labels',\n",
    "                                           target_size=img_size, class_mode='categorical',\n",
    "                                           color_mode='rgb', shuffle=True, batch_size=batch_size)\n",
    "\n",
    "    test_gen = ts_gen.flow_from_dataframe(test_df, x_col='filepaths', y_col='labels',\n",
    "                                          target_size=img_size, class_mode='categorical',\n",
    "                                          color_mode='rgb', shuffle=False, batch_size=batch_size)\n",
    "\n",
    "    g_dict = train_gen.class_indices\n",
    "    classes = list(g_dict.keys())\n",
    "    class_count = len(classes)\n",
    "\n",
    "    model = build_model()\n",
    "    callbacks = get_callbacks(f'Xception_fold_{fold_no}')\n",
    "\n",
    "    history = model.fit(train_gen,\n",
    "                        epochs=epochs,\n",
    "                        validation_data=test_gen,\n",
    "                        callbacks=callbacks)\n",
    "\n",
    "    ts_length = len(test_df)\n",
    "    test_batch_size = min(32, ts_length)\n",
    "    test_steps = ts_length // test_batch_size\n",
    "\n",
    "    test_score = model.evaluate(test_gen, steps=test_steps, verbose=1)\n",
    "    print(f\"Fold {fold_no} - Test Loss: \", test_score[0])\n",
    "    print(f\"Fold {fold_no} - Test Accuracy: \", test_score[1])\n",
    "\n",
    "    preds = model.predict(test_gen)\n",
    "    y_pred = np.argmax(preds, axis=1)\n",
    "    print(f\"Classification Report for Fold {fold_no}\")\n",
    "    print(classification_report(test_gen.classes, y_pred, target_names=classes))\n",
    "\n",
    "    accuracies.append(test_score[1])\n",
    "    fold_no += 1\n"
   ]
  },
  {
   "cell_type": "code",
   "execution_count": null,
   "id": "9724ba66-3a4d-4c2e-9ddc-5040d829014e",
   "metadata": {},
   "outputs": [],
   "source": [
    "print(f'Mean accuracy over {k} folds: {np.mean(accuracies)}')\n",
    "print(f'Standard Deviation over {k} folds: {np.std(accuracies)}')\n"
   ]
  }
 ],
 "metadata": {
  "kernelspec": {
   "display_name": "Python 3 (ipykernel)",
   "language": "python",
   "name": "python3"
  },
  "language_info": {
   "codemirror_mode": {
    "name": "ipython",
    "version": 3
   },
   "file_extension": ".py",
   "mimetype": "text/x-python",
   "name": "python",
   "nbconvert_exporter": "python",
   "pygments_lexer": "ipython3",
   "version": "3.11.6"
  }
 },
 "nbformat": 4,
 "nbformat_minor": 5
}
